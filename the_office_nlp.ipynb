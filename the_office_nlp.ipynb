{
 "cells": [
  {
   "cell_type": "code",
   "execution_count": null,
   "outputs": [],
   "source": [
    "import os\n",
    "import sys\n",
    "import re\n",
    "import pandas as pd\n",
    "import nltk\n",
    "from nltk.corpus import stopwords\n",
    "print(stopwords.words('english'))\n",
    "\n",
    "# nltk.download('stopwords')\n",
    "# nltk.download('wordnet')\n",
    "from nltk.stem import WordNetLemmatizer\n",
    "from collections import Counter\n",
    "\n",
    "from gensim.corpora.dictionary import Dictionary\n",
    "\n",
    "# import plotly\n",
    "# import plotly.plotly as py\n",
    "# import plotly.offline as offline\n",
    "# import plotly.graph_objs as go\n",
    "from nltk.tokenize import word_tokenize\n"
   ],
   "metadata": {
    "collapsed": false,
    "pycharm": {
     "name": "#%%\n"
    }
   }
  },
  {
   "cell_type": "code",
   "execution_count": 7,
   "outputs": [
    {
     "data": {
      "text/plain": "   id  season  episode  scene  \\\n0   1       1        1      1   \n1   2       1        1      1   \n2   3       1        1      1   \n3   4       1        1      1   \n4   5       1        1      1   \n\n                                           line_text  speaker  deleted  \n0  All right Jim. Your quarterlies look very good...  Michael    False  \n1         Oh, I told you. I couldn't close it. So...      Jim    False  \n2  So you've come to the master for guidance? Is ...  Michael    False  \n3         Actually, you called me in here, but yeah.      Jim    False  \n4    All right. Well, let me show you how it's done.  Michael    False  ",
      "text/html": "<div>\n<style scoped>\n    .dataframe tbody tr th:only-of-type {\n        vertical-align: middle;\n    }\n\n    .dataframe tbody tr th {\n        vertical-align: top;\n    }\n\n    .dataframe thead th {\n        text-align: right;\n    }\n</style>\n<table border=\"1\" class=\"dataframe\">\n  <thead>\n    <tr style=\"text-align: right;\">\n      <th></th>\n      <th>id</th>\n      <th>season</th>\n      <th>episode</th>\n      <th>scene</th>\n      <th>line_text</th>\n      <th>speaker</th>\n      <th>deleted</th>\n    </tr>\n  </thead>\n  <tbody>\n    <tr>\n      <th>0</th>\n      <td>1</td>\n      <td>1</td>\n      <td>1</td>\n      <td>1</td>\n      <td>All right Jim. Your quarterlies look very good...</td>\n      <td>Michael</td>\n      <td>False</td>\n    </tr>\n    <tr>\n      <th>1</th>\n      <td>2</td>\n      <td>1</td>\n      <td>1</td>\n      <td>1</td>\n      <td>Oh, I told you. I couldn't close it. So...</td>\n      <td>Jim</td>\n      <td>False</td>\n    </tr>\n    <tr>\n      <th>2</th>\n      <td>3</td>\n      <td>1</td>\n      <td>1</td>\n      <td>1</td>\n      <td>So you've come to the master for guidance? Is ...</td>\n      <td>Michael</td>\n      <td>False</td>\n    </tr>\n    <tr>\n      <th>3</th>\n      <td>4</td>\n      <td>1</td>\n      <td>1</td>\n      <td>1</td>\n      <td>Actually, you called me in here, but yeah.</td>\n      <td>Jim</td>\n      <td>False</td>\n    </tr>\n    <tr>\n      <th>4</th>\n      <td>5</td>\n      <td>1</td>\n      <td>1</td>\n      <td>1</td>\n      <td>All right. Well, let me show you how it's done.</td>\n      <td>Michael</td>\n      <td>False</td>\n    </tr>\n  </tbody>\n</table>\n</div>"
     },
     "execution_count": 7,
     "metadata": {},
     "output_type": "execute_result"
    }
   ],
   "source": [
    "# read in data\n",
    "# ----------------------------------\n",
    "lines = pd.read_csv(\"/Users/dan/Documents/talk/the_office_area_plot/data/the_office_lines.csv\", index_col=None)\n",
    "lines.head()\n"
   ],
   "metadata": {
    "collapsed": false,
    "pycharm": {
     "name": "#%%\n"
    }
   }
  },
  {
   "cell_type": "code",
   "execution_count": 3,
   "outputs": [
    {
     "data": {
      "text/plain": "id            int64\nseason       object\nepisode       int64\nscene         int64\nline_text    object\nspeaker      object\ndeleted        bool\ndtype: object"
     },
     "execution_count": 3,
     "metadata": {},
     "output_type": "execute_result"
    }
   ],
   "source": [
    "# Convert season to string data type\n",
    "# ----------------------------------\n",
    "lines['season'] = lines['season'].astype(str)\n",
    "lines.dtypes\n"
   ],
   "metadata": {
    "collapsed": false,
    "pycharm": {
     "name": "#%%\n"
    }
   }
  },
  {
   "cell_type": "code",
   "execution_count": 38,
   "outputs": [
    {
     "data": {
      "text/plain": "   id  season  episode  scene  \\\n0   1       1        1      1   \n1   2       1        1      1   \n2   3       1        1      1   \n3   4       1        1      1   \n4   5       1        1      1   \n\n                                           line_text  speaker  deleted  \\\n0  All right Jim. Your quarterlies look very good...  Michael    False   \n1         Oh, I told you. I couldn't close it. So...      Jim    False   \n2  So you've come to the master for guidance? Is ...  Michael    False   \n3         Actually, you called me in here, but yeah.      Jim    False   \n4    All right. Well, let me show you how it's done.  Michael    False   \n\n                                          word_token  \n0  [right, jim, quarterly, look, good, thing, lib...  \n1                           [oh, told, could, close]  \n2      [come, master, guidance, saying, grasshopper]  \n3                           [actually, called, yeah]  \n4                     [right, well, let, show, done]  ",
      "text/html": "<div>\n<style scoped>\n    .dataframe tbody tr th:only-of-type {\n        vertical-align: middle;\n    }\n\n    .dataframe tbody tr th {\n        vertical-align: top;\n    }\n\n    .dataframe thead th {\n        text-align: right;\n    }\n</style>\n<table border=\"1\" class=\"dataframe\">\n  <thead>\n    <tr style=\"text-align: right;\">\n      <th></th>\n      <th>id</th>\n      <th>season</th>\n      <th>episode</th>\n      <th>scene</th>\n      <th>line_text</th>\n      <th>speaker</th>\n      <th>deleted</th>\n      <th>word_token</th>\n    </tr>\n  </thead>\n  <tbody>\n    <tr>\n      <th>0</th>\n      <td>1</td>\n      <td>1</td>\n      <td>1</td>\n      <td>1</td>\n      <td>All right Jim. Your quarterlies look very good...</td>\n      <td>Michael</td>\n      <td>False</td>\n      <td>[right, jim, quarterly, look, good, thing, lib...</td>\n    </tr>\n    <tr>\n      <th>1</th>\n      <td>2</td>\n      <td>1</td>\n      <td>1</td>\n      <td>1</td>\n      <td>Oh, I told you. I couldn't close it. So...</td>\n      <td>Jim</td>\n      <td>False</td>\n      <td>[oh, told, could, close]</td>\n    </tr>\n    <tr>\n      <th>2</th>\n      <td>3</td>\n      <td>1</td>\n      <td>1</td>\n      <td>1</td>\n      <td>So you've come to the master for guidance? Is ...</td>\n      <td>Michael</td>\n      <td>False</td>\n      <td>[come, master, guidance, saying, grasshopper]</td>\n    </tr>\n    <tr>\n      <th>3</th>\n      <td>4</td>\n      <td>1</td>\n      <td>1</td>\n      <td>1</td>\n      <td>Actually, you called me in here, but yeah.</td>\n      <td>Jim</td>\n      <td>False</td>\n      <td>[actually, called, yeah]</td>\n    </tr>\n    <tr>\n      <th>4</th>\n      <td>5</td>\n      <td>1</td>\n      <td>1</td>\n      <td>1</td>\n      <td>All right. Well, let me show you how it's done.</td>\n      <td>Michael</td>\n      <td>False</td>\n      <td>[right, well, let, show, done]</td>\n    </tr>\n  </tbody>\n</table>\n</div>"
     },
     "execution_count": 38,
     "metadata": {},
     "output_type": "execute_result"
    }
   ],
   "source": [
    "# Word Tokenize\n",
    "# --------\n",
    "def word_token(row):\n",
    "    '''text preprocessing function\n",
    "\n",
    "    1. remove stage instructions in brackets\n",
    "    2. trim white space\n",
    "    3. tokenize\n",
    "    4. remove special characters\n",
    "    5. remove stopwords\n",
    "    6. stem all words\n",
    "\n",
    "    arg:\n",
    "        row of a df\n",
    "\n",
    "    return:\n",
    "        clean, tokenized row\n",
    "    '''\n",
    "\n",
    "    # remove stage instructions in brackets\n",
    "    no_brackets = re.sub(\"[\\(\\[].*?[\\)\\]]\", \"\", row.line_text)\n",
    "\n",
    "    # trim white space\n",
    "    no_white = no_brackets.strip()\n",
    "\n",
    "    # tokenize words\n",
    "    word_tokens = nltk.word_tokenize(no_white)\n",
    "\n",
    "    # lowercase all words\n",
    "    lower_tokens = [token.lower() for token in word_tokens]\n",
    "\n",
    "    # remove special characters\n",
    "    alpha_only = [token for token in lower_tokens\n",
    "                    if token.isalpha()]\n",
    "\n",
    "    # remove i, but, you, as, etc. (stopwords)\n",
    "    no_stops = [token for token in alpha_only\n",
    "                    if token not in stopwords.words('english')]\n",
    "\n",
    "    # stem all words\n",
    "    wordnet_lemmatizer = WordNetLemmatizer()\n",
    "    lemmatized = [wordnet_lemmatizer.lemmatize(token) for token in no_stops]\n",
    "\n",
    "    return lemmatized\n",
    "\n",
    "\n",
    "def word_token_loop(df):\n",
    "    # for loop to tokenize each row\n",
    "    df['word_token'] = df.apply(word_token, axis=1)\n",
    "    return df\n",
    "\n",
    "\n",
    "lines_word_token = word_token_loop(lines)\n",
    "lines_word_token.head()\n"
   ],
   "metadata": {
    "collapsed": false,
    "pycharm": {
     "name": "#%%\n"
    }
   }
  },
  {
   "cell_type": "code",
   "execution_count": 39,
   "outputs": [
    {
     "name": "stdout",
     "output_type": "stream",
     "text": [
      "Counter({'know': 110, 'oh': 85, 'right': 79, 'um': 78, 'yeah': 76, 'well': 68, 'uh': 67, 'going': 67, 'ok': 66, 'good': 63, 'go': 63, 'get': 58, 'one': 57, 'like': 56, 'think': 54, 'let': 50, 'pam': 48, 'would': 44, 'really': 43, 'want': 42, 'michael': 41, 'dwight': 40, 'jim': 39, 'come': 39, 'people': 37, 'hey': 35, 'could': 33, 'great': 33, 'time': 32, 'need': 32, 'thank': 31, 'take': 31, 'guy': 29, 'yes': 28, 'thing': 27, 'sorry': 26, 'see': 26, 'say': 26, 'something': 25, 'got': 25, 'u': 23, 'kind': 23, 'okay': 23, 'office': 22, 'care': 22, 'na': 22, 'look': 21, 'way': 21, 'plan': 21, 'call': 20, 'downsizing': 20, 'maybe': 20, 'actually': 19, 'work': 19, 'tell': 19, 'little': 19, 'two': 19, 'diversity': 19, 'please': 18, 'everybody': 17, 'year': 16, 'mean': 16, 'today': 16, 'god': 16, 'gon': 16, 'googi': 16, 'health': 16, 'hello': 15, 'job': 15, 'sure': 15, 'hero': 15, 'around': 15, 'surprise': 15, 'paper': 14, 'talk': 14, 'much': 14, 'ca': 14, 'man': 14, 'said': 14, 'make': 14, 'manager': 13, 'scott': 13, 'corporate': 13, 'love': 13, 'three': 13, 'ah': 13, 'day': 13, 'new': 13, 'give': 13, 'lot': 13, 'card': 13, 'jan': 12, 'put': 12, 'fine': 12, 'made': 12, 'second': 12, 'write': 12, 'kevin': 12, 'try': 12, 'race': 12, 'dunder': 11, 'mifflin': 11, 'back': 11, 'anything': 11, 'keep': 11, 'first': 11, 'nice': 11, 'disease': 11, 'talking': 10, 'listen': 10, 'real': 10, 'big': 10, 'important': 10, 'even': 10, 'schrute': 10, 'thanks': 10, 'sale': 10, 'charge': 10, 'busy': 10, 'probably': 9, 'nothing': 9, 'meeting': 9, 'set': 9, 'thinking': 9, 'hard': 9, 'believe': 9, 'else': 9, 'oscar': 9, 'someone': 9, 'birthday': 9, 'meredith': 9, 'alliance': 9, 'done': 8, 'regional': 8, 'wanted': 8, 'pretty': 8, 'company': 8, 'run': 8, 'scranton': 8, 'branch': 8, 'angela': 8, 'might': 8, 'word': 8, 'wo': 8, 'wow': 8, 'every': 8, 'wrote': 8, 'hi': 8, 'green': 8, 'bad': 8, 'told': 7, 'last': 7, 'many': 7, 'never': 7, 'play': 7, 'still': 7, 'problem': 7, 'mine': 7, 'question': 7, 'ahead': 7, 'respect': 7, 'assistant': 7, 'permission': 7, 'stanley': 7, 'hold': 7, 'always': 7, 'five': 7, 'fun': 7, 'cut': 7, 'thought': 7, 'name': 7, 'also': 7, 'mmm': 7, 'help': 7, 'sign': 7, 'already': 7, 'action': 7, 'product': 6, 'deal': 6, 'message': 6, 'best': 6, 'place': 6, 'hand': 6, 'wan': 6, 'mind': 6, 'ask': 6, 'stop': 6, 'ryan': 6, 'watch': 6, 'came': 6, 'bring': 6, 'memo': 6, 'raise': 6, 'promise': 6, 'information': 6, 'damn': 6, 'weekend': 6, 'food': 6, 'trying': 6, 'life': 6, 'curly': 6, 'happy': 6, 'ignorance': 6, 'interesting': 6, 'push': 6, 'wait': 6, 'offensive': 6, 'hour': 6, 'chris': 6, 'bit': 6, 'part': 6, 'ever': 6, 'workspace': 6, 'hmm': 6, 'saying': 5, 'show': 5, 'seen': 5, 'fax': 5, 'type': 5, 'whassup': 5, 'later': 5, 'joke': 5, 'supposed': 5, 'wish': 5, 'coming': 5, 'horrible': 5, 'person': 5, 'start': 5, 'desk': 5, 'brought': 5, 'everything': 5, 'employee': 5, 'lincoln': 5, 'stuff': 5, 'funny': 5, 'another': 5, 'end': 5, 'ta': 5, 'feel': 5, 'halpert': 5, 'different': 5, 'knew': 5, 'money': 5, 'number': 5, 'free': 5, 'check': 5, 'decker': 5, 'celebrate': 5, 'honesty': 5, 'workplace': 5, 'rock': 5, 'find': 5, 'black': 5, 'anyone': 5, 'pledge': 5, 'read': 5, 'tomorrow': 5, 'incest': 5, 'step': 5, 'sick': 5, 'tough': 5, 'use': 5, 'covered': 5, 'woman': 4, 'bos': 4, 'found': 4, 'phone': 4, 'morning': 4, 'since': 4, 'decided': 4, 'josh': 4, 'either': 4, 'hear': 4, 'long': 4, 'appropriate': 4, 'old': 4, 'absolutely': 4, 'leave': 4, 'party': 4, 'temp': 4, 'sort': 4, 'hitler': 4, 'girl': 4, 'whole': 4, 'dollar': 4, 'unhappy': 4, 'room': 4, 'abraham': 4, 'definitely': 4, 'world': 4, 'head': 4, 'family': 4, 'sometimes': 4, 'round': 4, 'guess': 4, 'roy': 4, 'engaged': 4, 'married': 4, 'sound': 4, 'friend': 4, 'cent': 4, 'business': 4, 'literally': 4, 'high': 4, 'joe': 4, 'staff': 4, 'making': 4, 'accounting': 4, 'crazy': 4, 'course': 4, 'worried': 4, 'whoa': 4, 'move': 4, 'attack': 4, 'idea': 4, 'talked': 4, 'reason': 4, 'getting': 4, 'quick': 4, 'exactly': 4, 'away': 4, 'listening': 4, 'racist': 4, 'easy': 4, 'empathy': 4, 'heart': 4, 'open': 4, 'anybody': 4, 'sense': 4, 'suffering': 4, 'state': 4, 'next': 4, 'watching': 4, 'door': 4, 'cool': 4, 'ready': 4, 'picking': 4, 'fire': 4, 'dead': 4, 'calling': 4, 'superior': 4, 'ride': 4, 'elevator': 4, 'vagina': 4, 'nanoo': 4, 'date': 4, 'eeee': 4, 'speak': 3, 'eye': 3, 'cute': 3, 'ago': 3, 'client': 3, 'whether': 3, 'pay': 3, 'lunch': 3, 'agenda': 3, 'stamford': 3, 'excellent': 3, 'concerned': 3, 'worry': 3, 'better': 3, 'cat': 3, 'ridiculous': 3, 'point': 3, 'cancer': 3, 'howard': 3, 'stooge': 3, 'dream': 3, 'minute': 3, 'fall': 3, 'six': 3, 'conference': 3, 'heard': 3, 'power': 3, 'profit': 3, 'session': 3, 'stapler': 3, 'eat': 3, 'hate': 3, 'drink': 3, 'seriously': 3, 'note': 3, 'serious': 3, 'morale': 3, 'totally': 3, 'moment': 3, 'respond': 3, 'human': 3, 'sometime': 3, 'order': 3, 'immediately': 3, 'hurt': 3, 'month': 3, 'eating': 3, 'corner': 3, 'spot': 3, 'whatever': 3, 'directly': 3, 'indian': 3, 'incident': 3, 'plus': 3, 'save': 3, 'brown': 3, 'routine': 3, 'remember': 3, 'born': 3, 'learned': 3, 'comment': 3, 'term': 3, 'copy': 3, 'everyone': 3, 'lose': 3, 'pennsylvania': 3, 'founder': 3, 'almost': 3, 'north': 3, 'principle': 3, 'camera': 3, 'united': 3, 'american': 3, 'mexican': 3, 'forehead': 3, 'treat': 3, 'martin': 3, 'luther': 3, 'king': 3, 'culture': 3, 'bom': 3, 'though': 3, 'huh': 3, 'racism': 3, 'attitude': 3, 'final': 3, 'hogan': 3, 'mint': 3, 'fair': 3, 'happened': 3, 'acupuncture': 3, 'pick': 3, 'decision': 3, 'news': 3, 'nope': 3, 'slashed': 3, 'benefit': 3, 'condition': 3, 'knock': 3, 'chip': 3, 'coal': 3, 'line': 3, 'damnit': 3, 'medical': 3, 'fake': 3, 'confess': 3, 'sandwich': 3, 'brrrrrrrr': 3, 'movie': 3, 'shake': 3, 'cake': 3, 'lamb': 3, 'close': 2, 'master': 2, 'guidance': 2, 'called': 2, 'four': 2, 'floor': 2, 'receptionist': 2, 'forever': 2, 'couple': 2, 'special': 2, 'filing': 2, 'cabinet': 2, 'face': 2, 'hilarious': 2, 'gift': 2, 'pa': 2, 'rum': 2, 'pump': 2, 'pum': 2, 'supply': 2, 'seven': 2, 'interfere': 2, 'add': 2, 'brother': 2, 'board': 2, 'panic': 2, 'bitch': 2, 'men': 2, 'certainly': 2, 'terrific': 2, 'bet': 2, 'doctor': 2, 'patient': 2, 'guilty': 2, 'sent': 2, 'moe': 2, 'comedy': 2, 'bother': 2, 'interview': 2, 'answer': 2, 'professional': 2, 'attention': 2, 'hope': 2, 'helped': 2, 'rumor': 2, 'ear': 2, 'happen': 2, 'insulted': 2, 'confidentiality': 2, 'mess': 2, 'left': 2, 'mixed': 2, 'berry': 2, 'introduce': 2, 'worth': 2, 'photo': 2, 'third': 2, 'rule': 2, 'discipline': 2, 'biggest': 2, 'pudding': 2, 'week': 2, 'chance': 2, 'outside': 2, 'dude': 2, 'wedding': 2, 'working': 2, 'entertainer': 2, 'punk': 2, 'accomplice': 2, 'along': 2, 'lead': 2, 'seat': 2, 'anyway': 2, 'stealing': 2, 'stolen': 2, 'clean': 2, 'giving': 2, 'without': 2, 'losing': 2, 'country': 2, 'english': 2, 'walking': 2, 'enjoy': 2, 'amish': 2, 'dozen': 2, 'small': 2, 'total': 2, 'chaos': 2, 'appreciate': 2, 'derita': 2, 'kinda': 2, 'side': 2, 'somebody': 2, 'stupid': 2, 'laid': 2, 'night': 2, 'met': 2, 'art': 2, 'tree': 2, 'phyllis': 2, 'turkey': 2, 'understand': 2, 'blind': 2, 'trained': 2, 'several': 2, 'awareness': 2, 'needed': 2, 'member': 2, 'pushing': 2, 'punch': 2, 'excited': 2, 'perfect': 2, 'tit': 2, 'buy': 2, 'percent': 2, 'solitaire': 2, 'freecell': 2, 'filling': 2, 'positive': 2, 'expectation': 2, 'pretend': 2, 'tolerance': 2, 'instead': 2, 'noticed': 2, 'white': 2, 'prefer': 2, 'choose': 2, 'gay': 2, 'test': 2, 'looking': 2, 'exact': 2, 'involved': 2, 'accountant': 2, 'basically': 2, 'kid': 2, 'credit': 2, 'simple': 2, 'form': 2, 'change': 2, 'advanced': 2, 'racial': 2, 'throwing': 2, 'signature': 2, 'training': 2, 'dating': 2, 'regret': 2, 'truly': 2, 'signed': 2, 'daffy': 2, 'duck': 2, 'hell': 2, 'carry': 2, 'native': 2, 'fifteenth': 2, 'parent': 2, 'grew': 2, 'story': 2, 'besides': 2, 'connotation': 2, 'meant': 2, 'cause': 2, 'named': 2, 'stir': 2, 'pot': 2, 'arab': 2, 'ball': 2, 'space': 2, 'kelly': 2, 'delicious': 2, 'salesman': 2, 'gave': 2, 'gotten': 2, 'shown': 2, 'pad': 2, 'thai': 2, 'collard': 2, 'erase': 2, 'spell': 2, 'helpful': 2, 'fact': 2, 'player': 2, 'parking': 2, 'handicap': 2, 'burkhalter': 2, 'turn': 2, 'laugh': 2, 'light': 2, 'count': 2, 'breakthrough': 2, 'pop': 2, 'washington': 2, 'went': 2, 'luck': 2, 'gather': 2, 'live': 2, 'thrive': 2, 'worker': 2, 'none': 2, 'closely': 2, 'gold': 2, 'popular': 2, 'mission': 2, 'gosh': 2, 'career': 2, 'temporary': 2, 'fails': 2, 'wild': 2, 'lion': 2, 'dental': 2, 'swamped': 2, 'awful': 2, 'lower': 2, 'cholesterol': 2, 'walk': 2, 'anymore': 2, 'fill': 2, 'confidential': 2, 'operation': 2, 'headed': 2, 'ebola': 2, 'mad': 2, 'inventing': 2, 'favoroonie': 2, 'troop': 2, 'boost': 2, 'mineshaft': 2, 'drop': 2, 'foot': 2, 'earth': 2, 'slowly': 2, 'industrial': 2, 'laser': 2, 'tag': 2, 'whose': 2, 'killer': 2, 'coverage': 2, 'fired': 2, 'mall': 2, 'shoe': 2, 'cell': 2, 'expect': 2, 'tried': 2, 'adult': 2, 'drum': 2, 'roll': 2, 'drew': 2, 'carey': 2, 'stile': 2, 'robin': 2, 'williams': 2, 'exciting': 2, 'mork': 2, 'ork': 2, 'bork': 2, 'spork': 2, 'jibelee': 2, 'baloobaloo': 2, 'admit': 2, 'jackass': 2, 'fraud': 2, 'brady': 2, 'leno': 2, 'protected': 2, 'mm': 2, 'water': 2, 'captain': 2, 'streamer': 2, 'red': 2, 'chocolate': 2, 'may': 2, 'italian': 2, 'toby': 2, 'kicked': 2, 'forming': 2, 'bread': 2, 'strong': 2, 'mary': 2, 'charity': 2, 'quarterly': 1, 'library': 1, 'grasshopper': 1, 'sir': 1, 'gentleman': 1, 'scholar': 1, 'mistake': 1, 'low': 1, 'voice': 1, 'smoker': 1, 'entire': 1, 'kingdom': 1, 'far': 1, 'beesly': 1, 'wastepaper': 1, 'basket': 1, 'worked': 1, 'sum': 1, 'spencer': 1, 'shall': 1, 'quantity': 1, 'copier': 1, 'boring': 1, 'whass': 1, 'levinson': 1, 'gould': 1, 'hillary': 1, 'rodham': 1, 'clinton': 1, 'scared': 1, 'alright': 1, 'faxed': 1, 'efficiency': 1, 'communication': 1, 'garbage': 1, 'bill': 1, 'lovely': 1, 'ellen': 1, 'justify': 1, 'alarm': 1, 'bell': 1, 'spoken': 1, 'convince': 1, 'incorporate': 1, 'however': 1, 'present': 1, 'excluded': 1, 'todd': 1, 'packer': 1, 'packman': 1, 'queen': 1, 'godzillary': 1, 'meaning': 1, 'carpet': 1, 'match': 1, 'drape': 1, 'horrifying': 1, 'lid': 1, 'unnecessarily': 1, 'regime': 1, 'update': 1, 'resume': 1, 'sunday': 1, 'charged': 1, 'agency': 1, 'daniqua': 1, 'yup': 1, 'mee': 1, 'student': 1, 'adolf': 1, 'worst': 1, 'illustration': 1, 'mostly': 1, 'watercolor': 1, 'oil': 1, 'pencil': 1, 'davis': 1, 'clearing': 1, 'concentrate': 1, 'overlapping': 1, 'spilling': 1, 'edge': 1, 'syllable': 1, 'demarcation': 1, 'safety': 1, 'violation': 1, 'pierce': 1, 'organ': 1, 'recommending': 1, 'yesterday': 1, 'relax': 1, 'control': 1, 'steve': 1, 'austin': 1, 'salary': 1, 'million': 1, 'deserve': 1, 'compensation': 1, 'hr': 1, 'role': 1, 'model': 1, 'garner': 1, 'asap': 1, 'bob': 1, 'bono': 1, 'fourth': 1, 'beyond': 1, 'incalculable': 1, 'record': 1, 'straight': 1, 'quietly': 1, 'whisper': 1, 'granted': 1, 'deemed': 1, 'enforce': 1, 'ultimatum': 1, 'upon': 1, 'closing': 1, 'downsize': 1, 'mother': 1, 'grave': 1, 'frankly': 1, 'asking': 1, 'axe': 1, 'stick': 1, 'ongoing': 1, 'agreement': 1, 'ai': 1, 'messing': 1, 'chillin': 1, 'useless': 1, 'tonnage': 1, 'price': 1, 'manila': 1, 'folder': 1, 'favorite': 1, 'flavor': 1, 'yogurt': 1, 'building': 1, 'meet': 1, 'polite': 1, 'kung': 1, 'fu': 1, 'car': 1, 'bought': 1, 'fixed': 1, 'grand': 1, 'engine': 1, 'suspension': 1, 'respray': 1, 'judge': 1, 'advantage': 1, 'relaxed': 1, 'volunteer': 1, 'sheriff': 1, 'deputy': 1, 'screw': 1, 'starving': 1, 'waste': 1, 'witness': 1, 'reprimand': 1, 'kinky': 1, 'practical': 1, 'putting': 1, 'personal': 1, 'effect': 1, 'flan': 1, 'custardy': 1, 'score': 1, 'damage': 1, 'property': 1, 'dessert': 1, 'tonight': 1, 'hopefully': 1, 'baby': 1, 'fiance': 1, 'september': 1, 'spring': 1, 'home': 1, 'twenty': 1, 'past': 1, 'bag': 1, 'awesome': 1, 'invited': 1, 'felt': 1, 'vibe': 1, 'yet': 1, 'atmosphere': 1, 'created': 1, 'jamie': 1, 'kennedy': 1, 'experiment': 1, 'follow': 1, 'pimp': 1, 'sec': 1, 'easier': 1, 'theft': 1, 'steal': 1, 'thousand': 1, 'apiece': 1, 'margin': 1, 'paperclip': 1, 'firing': 1, 'severance': 1, 'gross': 1, 'misconduct': 1, 'x': 1, 'joking': 1, 'booster': 1, 'showing': 1, 'jerk': 1, 'cash': 1, 'flow': 1, 'inventory': 1, 'proudest': 1, 'increased': 1, 'expense': 1, 'single': 1, 'young': 1, 'guatemalan': 1, 'barely': 1, 'spoke': 1, 'godfather': 1, 'child': 1, 'sucked': 1, 'headache': 1, 'father': 1, 'grandfather': 1, 'dweide': 1, 'schrude': 1, 'originally': 1, 'amland': 1, 'rep': 1, 'paperless': 1, 'bed': 1, 'sheet': 1, 'somewhere': 1, 'staple': 1, 'sprayed': 1, 'touch': 1, 'forth': 1, 'ream': 1, 'shemp': 1, 'forgot': 1, 'bliss': 1, 'lurking': 1, 'fence': 1, 'furry': 1, 'monster': 1, 'freak': 1, 'support': 1, 'leadership': 1, 'lie': 1, 'serf': 1, 'description': 1, 'fool': 1, 'completely': 1, 'especially': 1, 'mental': 1, 'artie': 1, 'johnson': 1, 'department': 1, 'book': 1, 'supervisor': 1, 'describe': 1, 'anxiety': 1, 'house': 1, 'band': 1, 'jewish': 1, 'geller': 1, 'showed': 1, 'plant': 1, 'israel': 1, 'planted': 1, 'figurine': 1, 'soul': 1, 'least': 1, 'wired': 1, 'john': 1, 'belushi': 1, 'phew': 1, 'freaked': 1, 'lump': 1, 'checked': 1, 'jewel': 1, 'freaky': 1, 'testicular': 1, 'testicle': 1, 'smoked': 1, 'nervous': 1, 'understood': 1, 'capture': 1, 'clearly': 1, 'possible': 1, 'martial': 1, 'includes': 1, 'behind': 1, 'negatively': 1, 'periphery': 1, 'block': 1, 'somehow': 1, 'documentary': 1, 'crew': 1, 'idiot': 1, 'truth': 1, 'gotcha': 1, 'row': 1, 'wanting': 1, 'mandated': 1, 'beat': 1, 'bastard': 1, 'sturdy': 1, 'content': 1, 'retaliation': 1, 'expression': 1, 'renew': 1, 'account': 1, 'commission': 1, 'mini': 1, 'bottle': 1, 'champagne': 1, 'recycled': 1, 'cocky': 1, 'saw': 1, 'saving': 1, 'martinez': 1, 'basis': 1, 'wrap': 1, 'philosophy': 1, 'arise': 1, 'simply': 1, 'fighting': 1, 'attracted': 1, 'sexually': 1, 'seated': 1, 'act': 1, 'ground': 1, 'steer': 1, 'orientation': 1, 'intolerant': 1, 'paradox': 1, 'figured': 1, 'defer': 1, 'mr': 1, 'ironic': 1, 'familiar': 1, 'comedic': 1, 'timing': 1, 'file': 1, 'complaint': 1, 'reenact': 1, 'outcome': 1, 'pull': 1, 'reenactment': 1, 'ruin': 1, 'butchering': 1, 'ignant': 1, 'as': 1, 'cookie': 1, 'acronym': 1, 'excuse': 1, 'kill': 1, 'harm': 1, 'childhood': 1, 'trauma': 1, 'disaster': 1, 'must': 1, 'avenged': 1, 'superhero': 1, 'express': 1, 'joint': 1, 'experience': 1, 'group': 1, 'taught': 1, 'teach': 1, 'candidly': 1, 'used': 1, 'instruction': 1, 'seminar': 1, 'embarrassed': 1, 'cared': 1, 'offending': 1, 'coworkers': 1, 'spirit': 1, 'scout': 1, 'halfway': 1, 'abandoned': 1, 'connection': 1, 'emotion': 1, 'oprah': 1, 'afterward': 1, 'tear': 1, 'sit': 1, 'circle': 1, 'style': 1, 'lame': 1, 'double': 1, 'environment': 1, 'welcoming': 1, 'cop': 1, 'squat': 1, 'cornerstone': 1, 'progress': 1, 'tape': 1, 'together': 1, 'customer': 1, 'namaste': 1, 'leading': 1, 'irish': 1, 'german': 1, 'scottish': 1, 'virtual': 1, 'nation': 1, 'fraction': 1, 'popping': 1, 'mexico': 1, 'moved': 1, 'sates': 1, 'le': 1, 'certain': 1, 'curious': 1, 'fore': 1, 'nobody': 1, 'exercise': 1, 'spark': 1, 'fly': 1, 'street': 1, 'tend': 1, 'violent': 1, 'admire': 1, 'success': 1, 'america': 1, 'olympics': 1, 'slavery': 1, 'versus': 1, 'holocaust': 1, 'inadvertent': 1, 'rice': 1, 'shalom': 1, 'apply': 1, 'loan': 1, 'stereotypical': 1, 'outback': 1, 'steakhouse': 1, 'australian': 1, 'mate': 1, 'melting': 1, 'ugly': 1, 'based': 1, 'stereotype': 1, 'untrue': 1, 'agree': 1, 'driver': 1, 'notice': 1, 'explosive': 1, 'pun': 1, 'intended': 1, 'soon': 1, 'court': 1, 'chappelle': 1, 'downloaded': 1, 'computer': 1, 'extra': 1, 'sketch': 1, 'hot': 1, 'beach': 1, 'mon': 1, 'longest': 1, 'welcome': 1, 'convenience': 1, 'store': 1, 'tax': 1, 'minority': 1, 'code': 1, 'given': 1, 'redo': 1, 'discount': 1, 'blame': 1, 'hated': 1, 'telling': 1, 'burrito': 1, 'colored': 1, 'collared': 1, 'hmmm': 1, 'buena': 1, 'vista': 1, 'brazil': 1, 'mmmm': 1, 'prime': 1, 'prove': 1, 'elephant': 1, 'running': 1, 'james': 1, 'earl': 1, 'jones': 1, 'spec': 1, 'empty': 1, 'inclusion': 1, 'sharing': 1, 'beautiful': 1, 'ideal': 1, 'memory': 1, 'aid': 1, 'brainer': 1, 'sister': 1, 'finally': 1, 'encourage': 1, 'interracial': 1, 'society': 1, 'insect': 1, 'lived': 1, 'former': 1, 'baseball': 1, 'played': 1, 'pro': 1, 'league': 1, 'integrated': 1, 'incredible': 1, 'outsider': 1, 'perspective': 1, 'full': 1, 'se': 1, 'guest': 1, 'parked': 1, 'handicapped': 1, 'raw': 1, 'tie': 1, 'doh': 1, 'schultz': 1, 'pissed': 1, 'doubt': 1, 'game': 1, 'win': 1, 'rate': 1, 'allowed': 1, 'bugging': 1, 'countdown': 1, 'steady': 1, 'sea': 1, 'whenever': 1, 'skin': 1, 'marched': 1, 'monument': 1, 'memorial': 1, 'congressman': 1, 'class': 1, 'feeling': 1, 'volatile': 1, 'embarrassing': 1, 'hunter': 1, 'near': 1, 'harbor': 1, 'ocean': 1, 'inland': 1, 'mountainous': 1, 'nomadic': 1, 'treated': 1, 'foreign': 1, 'prejudice': 1, 'tribe': 1, 'africa': 1, 'piggy': 1, 'french': 1, 'radar': 1, 'track': 1, 'ethnic': 1, 'festival': 1, 'rickles': 1, 'acid': 1, 'slap': 1, 'wearing': 1, 'happening': 1, 'rolling': 1, 'pamela': 1, 'stat': 1, 'superhighway': 1, 'lay': 1, 'earlier': 1, 'repeat': 1, 'sacred': 1, 'provide': 1, 'heal': 1, 'specialist': 1, 'therapeutic': 1, 'massage': 1, 'looked': 1, 'enough': 1, 'recommend': 1, 'crack': 1, 'provider': 1, 'cheapest': 1, 'assignment': 1, 'orifice': 1, 'suicide': 1, 'deliver': 1, 'trading': 1, 'spouse': 1, 'tv': 1, 'jimbo': 1, 'ha': 1, 'haaaaa': 1, 'unbelievably': 1, 'explain': 1, 'offer': 1, 'concentrating': 1, 'task': 1, 'asks': 1, 'advance': 1, 'higher': 1, 'throw': 1, 'front': 1, 'train': 1, 'parameter': 1, 'table': 1, 'bigger': 1, 'strike': 1, 'succeeds': 1, 'prouder': 1, 'groomed': 1, 'unless': 1, 'bone': 1, 'saved': 1, 'harsh': 1, 'coddling': 1, 'leg': 1, 'eats': 1, 'vision': 1, 'deductible': 1, 'trick': 1, 'freaking': 1, 'finish': 1, 'unreachable': 1, 'incommunicado': 1, 'capisce': 1, 'gah': 1, 'gee': 1, 'ridiculously': 1, 'aww': 1, 'insurance': 1, 'immune': 1, 'system': 1, 'antibody': 1, 'gene': 1, 'brain': 1, 'concentration': 1, 'bathroom': 1, 'inappropriate': 1, 'rain': 1, 'fortune': 1, 'decrease': 1, 'huge': 1, 'specific': 1, 'handle': 1, 'hang': 1, 'pathetic': 1, 'matter': 1, 'forward': 1, 'anonymous': 1, 'knob': 1, 'atlantic': 1, 'city': 1, 'send': 1, 'bus': 1, 'hotel': 1, 'comped': 1, 'pile': 1, 'casino': 1, 'writing': 1, 'cow': 1, 'teeth': 1, 'liquid': 1, 'drip': 1, 'throat': 1, 'spontaneous': 1, 'hydroplosion': 1, 'spin': 1, 'improv': 1, 'punish': 1, 'forged': 1, 'felony': 1, 'intense': 1, 'accusation': 1, 'leprosy': 1, 'flesh': 1, 'bacteria': 1, 'finger': 1, 'nanorobot': 1, 'infection': 1, 'perpetrator': 1, 'known': 1, 'nanorobots': 1, 'epidemic': 1, 'receive': 1, 'choculitis': 1, 'chocula': 1, 'yep': 1, 'key': 1, 'beep': 1, 'bothering': 1, 'acting': 1, 'carefully': 1, 'entirely': 1, 'true': 1, 'aaaahh': 1, 'fast': 1, 'waaaaah': 1, 'faster': 1, 'metabolism': 1, 'cooky': 1, 'manly': 1, 'surprising': 1, 'christ': 1, 'rational': 1, 'leaf': 1, 'option': 1, 'loud': 1, 'submitted': 1, 'indicate': 1, 'forfeited': 1, 'privilege': 1, 'obviously': 1, 'inverted': 1, 'penis': 1, 'removed': 1, 'hysterectomy': 1, 'uterus': 1, 'dermatitis': 1, 'hysterical': 1, 'anal': 1, 'fissure': 1, 'referring': 1, 'aaah': 1, 'crappy': 1, 'monday': 1, 'reminding': 1, 'backed': 1, 'alive': 1, 'improve': 1, 'dismiss': 1, 'voluntarily': 1, 'reporting': 1, 'promoted': 1, 'peer': 1, 'jealousy': 1, 'natural': 1, 'goofing': 1, 'willing': 1, 'suffer': 1, 'consequence': 1, 'inside': 1, 'stole': 1, 'trashcan': 1, 'early': 1, 'attempt': 1, 'font': 1, 'medieval': 1, 'england': 1, 'forceful': 1, 'private': 1, 'psssh': 1, 'outbreak': 1, 'unbreakable': 1, 'sixth': 1, 'unlikely': 1, 'mark': 1, 'p': 1, 'wrong': 1, 'finished': 1, 'rest': 1, 'unauthorized': 1, 'favor': 1, 'buddy': 1, 'tourist': 1, 'attraction': 1, 'craigers': 1, 'historically': 1, 'preserved': 1, 'adjacent': 1, 'anthracite': 1, 'heritage': 1, 'museum': 1, 'mining': 1, 'tool': 1, 'mural': 1, 'exhibit': 1, 'bat': 1, 'guano': 1, 'sculpture': 1, 'case': 1, 'shut': 1, 'confession': 1, 'wasting': 1, 'interrogating': 1, 'pen': 1, 'piece': 1, 'slow': 1, 'improvisers': 1, 'signing': 1, 'wayne': 1, 'vietnam': 1, 'jay': 1, 'half': 1, 'laughing': 1, 'comedically': 1, 'boy': 1, 'deserved': 1, 'slammed': 1, 'insult': 1, 'butt': 1, 'fat': 1, 'letterman': 1, 'carson': 1, 'bowling': 1, 'protecting': 1, 'guarantee': 1, 'bottom': 1, 'blah': 1, 'main': 1, 'difference': 1, 'donald': 1, 'trump': 1, 'pleasure': 1, 'sad': 1, 'function': 1, 'catchphrase': 1, 'hired': 1, 'unrealistic': 1, 'shame': 1, 'study': 1, 'passed': 1, 'gossip': 1, 'official': 1, 'disadvantage': 1, 'cooler': 1, 'maintenance': 1, 'scuttlebutt': 1, 'improvement': 1, 'starring': 1, 'stroke': 1, 'genius': 1, 'smile': 1, 'celebration': 1, 'calendar': 1, 'umm': 1, 'brrrp': 1, 'spock': 1, 'wet': 1, 'blanket': 1, 'star': 1, 'trek': 1, 'decoration': 1, 'forget': 1, 'dumb': 1, 'color': 1, 'blue': 1, 'yellow': 1, 'whoreish': 1, 'suggested': 1, 'flip': 1, 'coin': 1, 'gamble': 1, 'gambling': 1, 'smack': 1, 'beeyatches': 1, 'pulled': 1, 'amazing': 1, 'hook': 1, 'allergic': 1, 'dairy': 1, 'formed': 1, 'figure': 1, 'vulnerable': 1, 'annoys': 1, 'ticket': 1, 'gun': 1, 'spend': 1, 'arrested': 1, 'secret': 1, 'survivor': 1, 'involves': 1, 'spying': 1, 'build': 1, 'fort': 1, 'underground': 1, 'using': 1, 'pursue': 1, 'chatting': 1, 'giggling': 1, 'ignore': 1, 'wipe': 1, 'turning': 1, 'fudge': 1, 'condoning': 1, 'expecting': 1, 'bar': 1, 'dark': 1, 'imagine': 1, 'seem': 1, 'awfully': 1, 'chummy': 1, 'tension': 1, 'kitchen': 1, 'body': 1, 'language': 1, 'kev': 1, 'onion': 1, 'provolone': 1, 'resource': 1, 'assume': 1, 'therefore': 1, 'meri': 1, 'poop': 1, 'nephew': 1, 'cerebral': 1, 'palsy': 1, 'wondering': 1, 'donate': 1, 'buckage': 1, 'generous': 1, 'generosity': 1, 'togetherness': 1, 'community': 1, 'convalescence': 1})\n"
     ]
    }
   ],
   "source": [
    "# lines_word_token['word_token'].head()\n",
    "\n",
    "# i think onion to convert this1 column into a flat lreverseist and then the bag of words counter will work\n",
    "\n",
    "# Create the bag-of-words: bow\n",
    "# bow = Counter(lines_word_token['word_token'].to_list())\n",
    "stacked_list = lines_word_token['word_token'].head(1000).to_list()\n",
    "\n",
    "flat_list = [sentence for sub_list in stacked_list for sentence in sub_list]\n",
    "# print(flat_list)\n",
    "\n",
    "bow = Counter(flat_list)\n",
    "# Print the 10 most common tokens\n",
    "# print(bow.most_common(10))\n",
    "\n",
    "print(bow)"
   ],
   "metadata": {
    "collapsed": false,
    "pycharm": {
     "name": "#%%\n"
    }
   }
  },
  {
   "cell_type": "code",
   "execution_count": 39,
   "outputs": [],
   "source": [],
   "metadata": {
    "collapsed": false,
    "pycharm": {
     "name": "#%%\n"
    }
   }
  },
  {
   "cell_type": "code",
   "execution_count": null,
   "outputs": [],
   "source": [],
   "metadata": {
    "collapsed": false,
    "pycharm": {
     "name": "#%%\n"
    }
   }
  }
 ],
 "metadata": {
  "kernelspec": {
   "display_name": "Python 3",
   "language": "python",
   "name": "python3"
  },
  "language_info": {
   "codemirror_mode": {
    "name": "ipython",
    "version": 2
   },
   "file_extension": ".py",
   "mimetype": "text/x-python",
   "name": "python",
   "nbconvert_exporter": "python",
   "pygments_lexer": "ipython2",
   "version": "2.7.6"
  }
 },
 "nbformat": 4,
 "nbformat_minor": 0
}